{
  "nbformat": 4,
  "nbformat_minor": 0,
  "metadata": {
    "colab": {
      "name": "AWS_Assignments_5",
      "provenance": [],
      "collapsed_sections": [],
      "authorship_tag": "ABX9TyPqtzNtUbvMz9LpRYyoN1YP",
      "include_colab_link": true
    },
    "kernelspec": {
      "name": "python3",
      "display_name": "Python 3"
    },
    "language_info": {
      "name": "python"
    }
  },
  "cells": [
    {
      "cell_type": "markdown",
      "metadata": {
        "id": "view-in-github",
        "colab_type": "text"
      },
      "source": [
        "<a href=\"https://colab.research.google.com/github/saikumarreddykorsapati-source/AWS_Assignments/blob/main/AWS_Assignments_5.ipynb\" target=\"_parent\"><img src=\"https://colab.research.google.com/assets/colab-badge.svg\" alt=\"Open In Colab\"/></a>"
      ]
    },
    {
      "cell_type": "markdown",
      "source": [
        "1)\n",
        "\n",
        "C4 instances, the latest generation of Amazon EC2 Compute-optimized instances.This feature provides 500 Mbps to 4,000 Mbps of dedicated throughput to EBS above and beyond the general purpose network throughput provided to the instance.\n",
        "\n",
        "\n",
        "\n",
        "---\n",
        "\n",
        "\n"
      ],
      "metadata": {
        "id": "9_wXcwVwdfo9"
      }
    },
    {
      "cell_type": "markdown",
      "source": [
        "2)\n",
        "\n",
        "Amazon ElastiCache is a fully managed in-memory data store and cache service by Amazon Web Services. The service improves the performance of web applications by retrieving information from managed in-memory caches, instead of relying entirely on slower disk-based ddatabases.\n",
        "\n",
        "---\n",
        "\n"
      ],
      "metadata": {
        "id": "AgbXWkfxhBqV"
      }
    },
    {
      "cell_type": "markdown",
      "source": [
        "3)\n",
        "\n",
        "Amazon SimpleDB is a highly available NoSQL data store that offloads the work of database administration. Developers simply store and query data items via web services requests and Amazon SimpleDB does the rest. You can change your data model on the fly, and data is automatically indexed for you.\n",
        "\n",
        "---\n",
        "\n"
      ],
      "metadata": {
        "id": "CcMQKVsthGco"
      }
    },
    {
      "cell_type": "markdown",
      "source": [
        "4)\n",
        "\n",
        "Agile protection against web attacks. AWS WAF rule propagation and updates take under a minute, enabling you to quickly update security across your environment when issues arise.\n",
        "\n",
        "Save time with managed rules.\n",
        "\n",
        "Improved web traffic visibility\n",
        "\n",
        "\n",
        "\n",
        "---\n",
        "\n"
      ],
      "metadata": {
        "id": "0f85U7hAhMA3"
      }
    },
    {
      "cell_type": "markdown",
      "source": [
        "5)\n",
        "\n",
        "Amazon Elastic Block Store provides block level storage volumes for use with EC2 instances. EBS volumes behave like raw, unformatted block devices. We can mount these volumes as devices on your instances.  We can dynamically change the configuration of a volume attached to an instance."
      ],
      "metadata": {
        "id": "GdI3p38XhYeV"
      }
    }
  ]
}