{
  "nbformat": 4,
  "nbformat_minor": 0,
  "metadata": {
    "colab": {
      "name": "AWS_Assignments_2",
      "provenance": [],
      "authorship_tag": "ABX9TyM0WO8dD7dV6Feg0AAFd5bs",
      "include_colab_link": true
    },
    "kernelspec": {
      "name": "python3",
      "display_name": "Python 3"
    },
    "language_info": {
      "name": "python"
    }
  },
  "cells": [
    {
      "cell_type": "markdown",
      "metadata": {
        "id": "view-in-github",
        "colab_type": "text"
      },
      "source": [
        "<a href=\"https://colab.research.google.com/github/saikumarreddykorsapati-source/AWS_Assignments/blob/main/AWS_Assignments_2.ipynb\" target=\"_parent\"><img src=\"https://colab.research.google.com/assets/colab-badge.svg\" alt=\"Open In Colab\"/></a>"
      ]
    },
    {
      "cell_type": "markdown",
      "source": [
        "1)\n",
        "\n",
        "Amazon Web Services offers a broad set of global cloud-based products including compute, storage, databases, analytics, networking, mobile, developer tools, management tools, IoT, security and enterprise applications. \n",
        "\n",
        "These services help organizations move faster, lower IT costs, and scale.\n",
        "\n",
        "\n",
        "---\n",
        "\n"
      ],
      "metadata": {
        "id": "obHcYjyxdhcu"
      }
    },
    {
      "cell_type": "markdown",
      "source": [
        "2)\n",
        "\n",
        "An Amazon EC2 instance is a virtual server in Amazon’s Elastic Compute Cloud (EC2) for running applications on the Amazon Web Services (AWS) infrastructure. … Users can select an AMI provided by AWS, the user community or through the AWS Marketplace\n",
        "\n",
        "---\n",
        "\n"
      ],
      "metadata": {
        "id": "0XMMCt9keonW"
      }
    },
    {
      "cell_type": "markdown",
      "source": [
        "3)\n",
        "\n",
        "Amazon Simple Storage Service (Amazon S3) is an object storage service that offers industry-leading scalability, data availability, security, and performance. You can use Amazon S3 to store and retrieve any amount of data at any time, from anywhere. Amazon S3 stores data as objects within buckets\n",
        "Types of S3 Storage Classes\n",
        "\n",
        "S3 Standard.\n",
        "\n",
        "S3 Standard-IA.\n",
        "\n",
        "S3 Intelligent-Tiering.\n",
        "\n",
        "S3 One Zone-IA.\n",
        "\n",
        "S3 Glacier.\n",
        "\n",
        "S3 Glacier Deep Archive.\n",
        "\n",
        "S3 Outposts.\n",
        "\n",
        "\n",
        "---\n",
        "\n"
      ],
      "metadata": {
        "id": "Qj1vQEY_etOb"
      }
    },
    {
      "cell_type": "markdown",
      "source": [
        "4)\n",
        "\n",
        "AWS Identity and Access Management (IAM) provides fine-grained access control across all of AWS. With IAM, you can specify who can access which services and resources, and under which conditions. With IAM policies, you manage permissions to your workforce and systems to ensure least-privilege permissions.\n",
        "\n",
        "---\n",
        "\n"
      ],
      "metadata": {
        "id": "meWhZ6kye5gl"
      }
    }
  ]
}