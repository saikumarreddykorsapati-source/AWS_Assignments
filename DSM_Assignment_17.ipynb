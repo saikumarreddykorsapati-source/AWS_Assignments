{
  "cells": [
    {
      "cell_type": "markdown",
      "metadata": {
        "id": "view-in-github",
        "colab_type": "text"
      },
      "source": [
        "<a href=\"https://colab.research.google.com/github/saikumarreddykorsapati-source/AWS_Assignments/blob/main/DSM_Assignment_17.ipynb\" target=\"_parent\"><img src=\"https://colab.research.google.com/assets/colab-badge.svg\" alt=\"Open In Colab\"/></a>"
      ]
    },
    {
      "cell_type": "markdown",
      "id": "0b1c9422",
      "metadata": {
        "id": "0b1c9422"
      },
      "source": [
        "#### 1) Assign the value 7 to the variable guess_me. Then, write the conditional tests (if, else, and elif) to print the string 'too low' if guess_me is less than 7, 'too high' if greater than 7, and 'just right' if equal to 7."
      ]
    },
    {
      "cell_type": "code",
      "execution_count": 1,
      "id": "9bd36b65",
      "metadata": {
        "colab": {
          "base_uri": "https://localhost:8080/"
        },
        "id": "9bd36b65",
        "outputId": "adc2c3e9-18cc-43d7-f4db-5a139df0e120"
      },
      "outputs": [
        {
          "output_type": "stream",
          "name": "stdout",
          "text": [
            "just Right\n",
            "too Low\n",
            "too High\n"
          ]
        }
      ],
      "source": [
        "def guess_me(guess_me):\n",
        "    if guess_me < 7:\n",
        "        print('too Low')\n",
        "    elif guess_me > 7:\n",
        "        print('too High')\n",
        "    else:\n",
        "        print('just Right')\n",
        "\n",
        "guess_me(guess_me=7)\n",
        "guess_me(guess_me=5)\n",
        "guess_me(guess_me=15)"
      ]
    },
    {
      "cell_type": "markdown",
      "id": "4726a300",
      "metadata": {
        "id": "4726a300"
      },
      "source": [
        "#### 2) Assign the value 7 to the variable guess_me and the value 1 to the variable start. Write a while loop that compares start with guess_me. Print too low if start is less than guess me. If start equals guess_me, print 'found it!' and exit the loop. If start is greater than guess_me, print 'oops' and exit the loop. Increment start at the end of the loop"
      ]
    },
    {
      "cell_type": "code",
      "execution_count": 2,
      "id": "455c37de",
      "metadata": {
        "colab": {
          "base_uri": "https://localhost:8080/"
        },
        "id": "455c37de",
        "outputId": "f00bc978-5446-4102-d307-6bfe03cbd3df"
      },
      "outputs": [
        {
          "output_type": "stream",
          "name": "stdout",
          "text": [
            "too low\n",
            "too low\n",
            "too low\n",
            "too low\n",
            "too low\n",
            "too low\n",
            "found it\n"
          ]
        }
      ],
      "source": [
        "guess_me = 7\n",
        "start = 1\n",
        "while True:\n",
        "    if start < guess_me:\n",
        "        print('too low')\n",
        "    elif start == guess_me:\n",
        "        print('found it')\n",
        "        break\n",
        "    else:\n",
        "        print('oops')\n",
        "        break\n",
        "    start += 1"
      ]
    },
    {
      "cell_type": "markdown",
      "id": "22fe6aee",
      "metadata": {
        "id": "22fe6aee"
      },
      "source": [
        "#### 3) Print the following values of the list [3, 2, 1, 0] using a for loop."
      ]
    },
    {
      "cell_type": "code",
      "execution_count": 12,
      "id": "c1b70fcb",
      "metadata": {
        "colab": {
          "base_uri": "https://localhost:8080/"
        },
        "id": "c1b70fcb",
        "outputId": "18f60363-5212-4be0-c15d-081f7a7550d6"
      },
      "outputs": [
        {
          "output_type": "stream",
          "name": "stdout",
          "text": [
            "3\n",
            "2\n",
            "1\n",
            "0\n"
          ]
        }
      ],
      "source": [
        "in_list = [3,2,1,0]\n",
        "for i in in_list:\n",
        "    print(i)"
      ]
    },
    {
      "cell_type": "markdown",
      "id": "b3e4fe5e",
      "metadata": {
        "id": "b3e4fe5e"
      },
      "source": [
        "#### 4) Use a list comprehension to make a list of the even numbers in range(10)"
      ]
    },
    {
      "cell_type": "code",
      "execution_count": 16,
      "id": "c8fa10ff",
      "metadata": {
        "colab": {
          "base_uri": "https://localhost:8080/"
        },
        "id": "c8fa10ff",
        "outputId": "f3983c1d-0db3-4f4b-d0d2-0c4050c985b4"
      },
      "outputs": [
        {
          "output_type": "stream",
          "name": "stdout",
          "text": [
            "[0, 2, 4, 6, 8]\n"
          ]
        }
      ],
      "source": [
        "print([x for x in range(0,10) if x%2==0 ])"
      ]
    },
    {
      "cell_type": "markdown",
      "id": "692f5e50",
      "metadata": {
        "id": "692f5e50"
      },
      "source": [
        "#### 5) Use a dictionary comprehension to create the dictionary squares. Use range(10) to return the keys, and use the square of each key as its value."
      ]
    },
    {
      "cell_type": "code",
      "execution_count": 13,
      "id": "98e03632",
      "metadata": {
        "colab": {
          "base_uri": "https://localhost:8080/"
        },
        "id": "98e03632",
        "outputId": "d71eda55-852c-4f10-b0ed-568b3cb3a355"
      },
      "outputs": [
        {
          "output_type": "stream",
          "name": "stdout",
          "text": [
            "{0: 0, 1: 1, 2: 4, 3: 9, 4: 16, 5: 25, 6: 36, 7: 49, 8: 64, 9: 81}\n"
          ]
        }
      ],
      "source": [
        "print({x:x**2 for x in range(10)})"
      ]
    },
    {
      "cell_type": "markdown",
      "id": "898769b5",
      "metadata": {
        "id": "898769b5"
      },
      "source": [
        "#### 6) Construct the set odd from the odd numbers in the range using a set comprehension (10)."
      ]
    },
    {
      "cell_type": "code",
      "execution_count": 6,
      "id": "844a0f4b",
      "metadata": {
        "colab": {
          "base_uri": "https://localhost:8080/"
        },
        "id": "844a0f4b",
        "outputId": "61a38eeb-6fa3-4952-d5eb-c0b9ad766a2a"
      },
      "outputs": [
        {
          "output_type": "stream",
          "name": "stdout",
          "text": [
            "{1, 3, 5, 7, 9}\n"
          ]
        }
      ],
      "source": [
        "print({x for x in range(10) if x%2 !=0})"
      ]
    },
    {
      "cell_type": "markdown",
      "id": "37ac8a77",
      "metadata": {
        "id": "37ac8a77"
      },
      "source": [
        "#### 7) Use a generator comprehension to return the string 'Got ' and a number for the numbers in range(10). Iterate through this by using a for loop"
      ]
    },
    {
      "cell_type": "code",
      "execution_count": 17,
      "id": "5158d350",
      "metadata": {
        "colab": {
          "base_uri": "https://localhost:8080/"
        },
        "id": "5158d350",
        "outputId": "9495e019-9fb7-4bb5-8065-8908ca554132"
      },
      "outputs": [
        {
          "output_type": "stream",
          "name": "stdout",
          "text": [
            "Got_0 Got_1 Got_2 Got_3 Got_4 Got_5 Got_6 Got_7 Got_8 Got_9 "
          ]
        }
      ],
      "source": [
        "gen_comp = ('Got_'+str(x) for x in range(10))\n",
        "for i in gen_comp:\n",
        "    print(i, end=' ')"
      ]
    },
    {
      "cell_type": "markdown",
      "id": "dffeae83",
      "metadata": {
        "id": "dffeae83"
      },
      "source": [
        "#### 8) Define a function called good that returns the list ['Harry', 'Ron', 'Hermione']."
      ]
    },
    {
      "cell_type": "code",
      "execution_count": 8,
      "id": "ee59ee83",
      "metadata": {
        "colab": {
          "base_uri": "https://localhost:8080/"
        },
        "id": "ee59ee83",
        "outputId": "366e1921-e92c-4023-c1a8-a6dcf0d72c30"
      },
      "outputs": [
        {
          "output_type": "stream",
          "name": "stdout",
          "text": [
            "['Harry', 'Ron', 'Hermione']\n"
          ]
        }
      ],
      "source": [
        "def good():\n",
        "    x =  ['Harry', 'Ron', 'Hermione']\n",
        "    return x\n",
        "print(good())"
      ]
    },
    {
      "cell_type": "markdown",
      "id": "9c22791a",
      "metadata": {
        "id": "9c22791a"
      },
      "source": [
        "#### 9) Define a generator function called get_odds that returns the odd numbers from range(10). Use a for loop to find and print the third value returned."
      ]
    },
    {
      "cell_type": "code",
      "execution_count": 9,
      "id": "d86ab546",
      "metadata": {
        "colab": {
          "base_uri": "https://localhost:8080/"
        },
        "id": "d86ab546",
        "outputId": "03abfd5a-4ad5-42a3-aa78-afe1ee6ac997"
      },
      "outputs": [
        {
          "output_type": "execute_result",
          "data": {
            "text/plain": [
              "5"
            ]
          },
          "metadata": {},
          "execution_count": 9
        }
      ],
      "source": [
        "def get_odds():\n",
        "    output = []\n",
        "    for ele in range(10):\n",
        "        if ele%2 != 0:\n",
        "            output.append(ele)\n",
        "    yield output\n",
        "\n",
        "next(get_odds())[2]"
      ]
    },
    {
      "cell_type": "markdown",
      "id": "e5cd8259",
      "metadata": {
        "id": "e5cd8259"
      },
      "source": [
        "#### 10) Define an exception called OopsException. Raise this exception to see what happens. Then write the code to catch this exception and print 'Caught an oops'."
      ]
    },
    {
      "cell_type": "code",
      "execution_count": 10,
      "id": "3670b71d",
      "metadata": {
        "colab": {
          "base_uri": "https://localhost:8080/"
        },
        "id": "3670b71d",
        "outputId": "f7687232-847f-45e5-b090-6ca076af3e76"
      },
      "outputs": [
        {
          "output_type": "stream",
          "name": "stdout",
          "text": [
            "Caught in Oops -> name 'a' is not defined\n"
          ]
        }
      ],
      "source": [
        "class OopsException(Exception):\n",
        "    pass\n",
        "\n",
        "def test(input):\n",
        "    if input <0:\n",
        "        raise OopsException(a)\n",
        "try:\n",
        "    test(-100)\n",
        "except Exception as e:\n",
        "    print('Caught in Oops ->',e)"
      ]
    },
    {
      "cell_type": "markdown",
      "id": "6693ea2c",
      "metadata": {
        "id": "6693ea2c"
      },
      "source": [
        "#### 11) Use zip() to make a dictionary called movies that pairs these lists: titles = ['Creature of Habit', 'Crewel Fate'] and plots = ['A nun turns into a monster', 'A haunted yarn shop']."
      ]
    },
    {
      "cell_type": "code",
      "execution_count": 11,
      "id": "c7da478c",
      "metadata": {
        "colab": {
          "base_uri": "https://localhost:8080/"
        },
        "id": "c7da478c",
        "outputId": "c844a0ed-1fef-49c4-d1ea-bd04e332536c"
      },
      "outputs": [
        {
          "output_type": "stream",
          "name": "stdout",
          "text": [
            "{'Creature of Habit': 'A nun turns into a monster', 'Crewel Fate': 'A haunted yarn shop'}\n"
          ]
        }
      ],
      "source": [
        "titles = ['Creature of Habit', 'Crewel Fate']\n",
        "plots = ['A nun turns into a monster', 'A haunted yarn shop']\n",
        "output = dict(zip(titles,plots))\n",
        "print(output)"
      ]
    }
  ],
  "metadata": {
    "kernelspec": {
      "display_name": "Python 3 (ipykernel)",
      "language": "python",
      "name": "python3"
    },
    "language_info": {
      "codemirror_mode": {
        "name": "ipython",
        "version": 3
      },
      "file_extension": ".py",
      "mimetype": "text/x-python",
      "name": "python",
      "nbconvert_exporter": "python",
      "pygments_lexer": "ipython3",
      "version": "3.8.8"
    },
    "colab": {
      "name": "DSM_Assignment_17.ipynb",
      "provenance": [],
      "include_colab_link": true
    }
  },
  "nbformat": 4,
  "nbformat_minor": 5
}