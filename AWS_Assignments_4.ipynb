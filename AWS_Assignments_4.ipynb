{
  "nbformat": 4,
  "nbformat_minor": 0,
  "metadata": {
    "colab": {
      "name": "AWS_Assignments_4",
      "provenance": [],
      "collapsed_sections": [],
      "authorship_tag": "ABX9TyOFElWRR7fyjT7Mn8LUAQv/",
      "include_colab_link": true
    },
    "kernelspec": {
      "name": "python3",
      "display_name": "Python 3"
    },
    "language_info": {
      "name": "python"
    }
  },
  "cells": [
    {
      "cell_type": "markdown",
      "metadata": {
        "id": "view-in-github",
        "colab_type": "text"
      },
      "source": [
        "<a href=\"https://colab.research.google.com/github/saikumarreddykorsapati-source/AWS_Assignments/blob/main/AWS_Assignments_4.ipynb\" target=\"_parent\"><img src=\"https://colab.research.google.com/assets/colab-badge.svg\" alt=\"Open In Colab\"/></a>"
      ]
    },
    {
      "cell_type": "markdown",
      "source": [
        "1)\n",
        "\n",
        "Snowball is a petabyte-scale data transport solution that uses secure appliances to transfer large amounts of data into and out of the AWS cloud. Using Snowball addresses common challenges with large-scale data transfers including high network costs, long transfer times, and security concerns.\n",
        "\n",
        "\n",
        "---\n",
        "\n",
        "\n"
      ],
      "metadata": {
        "id": "9ZWZVEl8dgIE"
      }
    },
    {
      "cell_type": "markdown",
      "source": [
        "2)\n",
        "\n",
        "When a connection times out, a NAT gateway returns an RST packet to any resources behind the NAT gateway that attempt to continue the connection (it does not send a FIN packet). When a connection times out, a NAT instance sends a FIN packet to resources behind the NAT instance to close the connection\n",
        "\n",
        "---\n",
        "\n"
      ],
      "metadata": {
        "id": "XbbT_mPOf_MH"
      }
    },
    {
      "cell_type": "markdown",
      "source": [
        "3)\n",
        "\n",
        "Data Management and Data Transfer.\n",
        "\n",
        "Compute & Neconnectio.\n",
        "\n",
        "Storage.\n",
        "\n",
        "Automation and Orchestration.\n",
        "\n",
        "Operations and Management.\n",
        "\n",
        "Visualization.\n",
        "\n",
        "Security and Compliance.\n",
        "\n",
        "\n",
        "---\n",
        "\n"
      ],
      "metadata": {
        "id": "NyU5XoL6gEHU"
      }
    },
    {
      "cell_type": "markdown",
      "source": [
        "4)\n",
        "\n",
        "For example, it’s quicker to spin up an Amazon EC2 server instance manually to test a new version of an application, validate a use case or run a performance test. But first, it’s useful to understand the process, along with all the required inputs.\n",
        "\n",
        "---\n",
        "\n"
      ],
      "metadata": {
        "id": "VP5jQeR0gRzm"
      }
    },
    {
      "cell_type": "markdown",
      "source": [
        "5)\n",
        "\n",
        "Explain the concept of outlier car scaling. ?????? Didnt understood outlier Car scaling?"
      ],
      "metadata": {
        "id": "ZnUKb2LogWdB"
      }
    }
  ]
}