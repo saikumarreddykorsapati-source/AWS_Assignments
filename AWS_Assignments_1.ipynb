{
  "nbformat": 4,
  "nbformat_minor": 0,
  "metadata": {
    "colab": {
      "name": "AWS_Assignments_1",
      "provenance": [],
      "authorship_tag": "ABX9TyM7uyXNxDqQw2qVzfikzvpl",
      "include_colab_link": true
    },
    "kernelspec": {
      "name": "python3",
      "display_name": "Python 3"
    },
    "language_info": {
      "name": "python"
    }
  },
  "cells": [
    {
      "cell_type": "markdown",
      "metadata": {
        "id": "view-in-github",
        "colab_type": "text"
      },
      "source": [
        "<a href=\"https://colab.research.google.com/github/saikumarreddykorsapati-source/AWS_Assignments/blob/main/AWS_Assignments_1.ipynb\" target=\"_parent\"><img src=\"https://colab.research.google.com/assets/colab-badge.svg\" alt=\"Open In Colab\"/></a>"
      ]
    },
    {
      "cell_type": "markdown",
      "source": [
        "1)\n",
        "\n",
        "Create a transit gateway.\n",
        "\n",
        "Attach your VPCs to your transit gateway.\n",
        "\n",
        "Create a site-to-site VPN connection and attach it to your transit gateway.\n",
        "\n",
        "\n",
        "---\n",
        "\n"
      ],
      "metadata": {
        "id": "o6q6N9Gfdahh"
      }
    },
    {
      "cell_type": "markdown",
      "source": [
        "2) \n",
        "\n",
        "EBS volume is network attached drive which results in slow performance but data is persistent meaning even if you reboot the instance data will be there. \n",
        "\n",
        "Instance store instance store provides temporary block-level storage for your instance.\n",
        "\n",
        "\n",
        "---\n",
        "\n"
      ],
      "metadata": {
        "id": "u-XWC0GzdzQv"
      }
    },
    {
      "cell_type": "markdown",
      "source": [
        "3) \n",
        "\n",
        "Application Load Balancers, Network Load Balancers, and Classic Load Balancers\n",
        "\n",
        "\n",
        "\n",
        "---\n",
        "\n"
      ],
      "metadata": {
        "id": "uLqCJ5-Zd5SS"
      }
    },
    {
      "cell_type": "markdown",
      "source": [
        "\n",
        "4) \n",
        "\n",
        "AWS Identity and Access Management (IAM) provides fine-grained access control across all of AWS. With IAM, you can specify who can access which services and resources, and under which conditions. \n",
        "\n",
        "With IAM policies, you manage permissions to your workforce and systems to ensure least-privilege permissions.\n",
        "\n",
        "AWS Identity and Access Management (IAM) is a web service that helps you securely control access to AWS resources. \n",
        "\n",
        "You use IAM to control who is authenticated (signed in) and authorized (has permissions) to use resources\n",
        "\n",
        "\n",
        "---\n",
        "\n"
      ],
      "metadata": {
        "id": "g-OoHugTd-Uc"
      }
    },
    {
      "cell_type": "markdown",
      "source": [
        "5) \n",
        "\n",
        "DynamoDB is a fully managed cloud service that you access via API. Applications running on any operating system (such as Linux, Windows, iOS, Android, Solaris, AIX, and HP-UX) can use DynamoDB.\n",
        "\n",
        " We recommend using the AWS SDKs to get started with DynamoDB\n",
        "DynamoDB uses the partition key value as input to an internal hash function.\n",
        "\n",
        " The output from the hash function determines the partition (physical storage internal to DynamoDB) in which the item will be stored.\n",
        " \n",
        "  All items with the same partition key value are stored together, in sorted order by sort key value.\n",
        "\n",
        "\n",
        "\n",
        "---\n",
        "\n",
        "\n"
      ],
      "metadata": {
        "id": "dMkbumYfeJRz"
      }
    }
  ]
}