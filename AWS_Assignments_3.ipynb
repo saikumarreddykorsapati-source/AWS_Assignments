{
  "nbformat": 4,
  "nbformat_minor": 0,
  "metadata": {
    "colab": {
      "name": "AWS_Assignments_3",
      "provenance": [],
      "collapsed_sections": [],
      "authorship_tag": "ABX9TyOMfL9TJsG/Peri+jpBOs6h",
      "include_colab_link": true
    },
    "kernelspec": {
      "name": "python3",
      "display_name": "Python 3"
    },
    "language_info": {
      "name": "python"
    }
  },
  "cells": [
    {
      "cell_type": "markdown",
      "metadata": {
        "id": "view-in-github",
        "colab_type": "text"
      },
      "source": [
        "<a href=\"https://colab.research.google.com/github/saikumarreddykorsapati-source/AWS_Assignments/blob/main/AWS_Assignments_3.ipynb\" target=\"_parent\"><img src=\"https://colab.research.google.com/assets/colab-badge.svg\" alt=\"Open In Colab\"/></a>"
      ]
    },
    {
      "cell_type": "markdown",
      "source": [
        "1)\n",
        "\n",
        "AWS Auto Scaling monitors your applications and automatically adjusts capacity to maintain steady, predictable performance at the lowest possible cost. AWS Auto Scaling makes scaling simple with recommendations that allow you to optimize performance, costs, or balance between them.\n",
        "\n",
        "\n",
        "---\n",
        "\n"
      ],
      "metadata": {
        "id": "p7sMM3vhdgxn"
      }
    },
    {
      "cell_type": "markdown",
      "source": [
        "2)\n",
        "\n",
        "AWS CloudFormation is a service that gives developers and businesses an easy way to create a collection of related AWS and third-party resources, and provision and manage them in an orderly and predictable fashion.\n",
        "\n",
        "\n",
        "---\n",
        "\n"
      ],
      "metadata": {
        "id": "ZUl2QR3ofSAR"
      }
    },
    {
      "cell_type": "markdown",
      "source": [
        "3)\n",
        "\n",
        "AWS Identity & Access Management (IAM) or Amazon CloudFront.these services are not tied to a specific region.\n",
        "\n",
        "\n",
        "---\n",
        "\n"
      ],
      "metadata": {
        "id": "wS4BZOQLfXIw"
      }
    },
    {
      "cell_type": "markdown",
      "source": [
        "4)\n",
        "\n",
        "The EC2 paused state indicates that an instance is shut down and cannot be used. Basically, it is a temporary shutdown for when you are not using an instance, but you will need it later. The attached bootable EBS volume will not be deleted.Terminate is a permanent deletion. Use this when you are finished with an instance, as terminated instances can’t be recovered.\n",
        "\n",
        "\n",
        "---\n",
        "\n"
      ],
      "metadata": {
        "id": "BY6fKlXnfdcm"
      }
    },
    {
      "cell_type": "markdown",
      "source": [
        "5)\n",
        "\n",
        "Open the Amazon EC2 console.\n",
        "In the navigation pane, choose Instances.\n",
        "Select the instance that you want to configure.\n",
        "Choose Actions, and then choose Monitor and troubleshoot. …\n",
        "Choose Create an alarm. …\n",
        "For Alarm notification, choose an existing Amazon Simple Notification Service (Amazon SNS) topic.\n"
      ],
      "metadata": {
        "id": "8QD8ZGJpfhvF"
      }
    }
  ]
}